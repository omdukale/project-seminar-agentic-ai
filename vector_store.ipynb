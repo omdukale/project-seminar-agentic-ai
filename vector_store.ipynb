{
 "cells": [
  {
   "cell_type": "markdown",
   "id": "cc6b0ca9",
   "metadata": {},
   "source": [
    "<h1> Uploading Files and Creating Vector Store for RAG <h1>\n"
   ]
  },
  {
   "cell_type": "code",
   "execution_count": 1,
   "id": "4bfb7431",
   "metadata": {},
   "outputs": [
    {
     "name": "stdout",
     "output_type": "stream",
     "text": [
      "Uploading files...\n",
      "Vector Store Created with ID: vs_68ffd3098cfc8191bff58be73641ed16\n"
     ]
    }
   ],
   "source": [
    "from openai import OpenAI\n",
    "import os\n",
    "\n",
    "client = OpenAI()\n",
    "\n",
    "PDF_FOLDER = \"/home/omdukale/projects/agents/cases\"\n",
    "\n",
    "file_paths = [os.path.join(PDF_FOLDER, f) for f in os.listdir(PDF_FOLDER) if f.endswith('.pdf')]\n",
    "uploaded_files = []\n",
    "\n",
    "print(\"Uploading files...\")\n",
    "\n",
    "for path in file_paths:\n",
    "    with open(path, \"rb\") as file:\n",
    "        uploaded_file = client.files.create(\n",
    "            file=file,\n",
    "            purpose=\"assistants\"\n",
    "        )\n",
    "        uploaded_files.append(uploaded_file)\n",
    "\n",
    "file_ids = [f.id for f in uploaded_files]\n",
    "\n",
    "vector_store = client.vector_stores.create(\n",
    "    name=\"Legal Cases DataBase\"\n",
    ")\n",
    "\n",
    "client.vector_stores.file_batches.create(\n",
    "    vector_store_id=vector_store.id,\n",
    "    file_ids=file_ids\n",
    ")\n",
    "\n",
    "print(f\"Vector Store Created with ID: {vector_store.id}\")"
   ]
  }
 ],
 "metadata": {
  "kernelspec": {
   "display_name": ".venv",
   "language": "python",
   "name": "python3"
  },
  "language_info": {
   "codemirror_mode": {
    "name": "ipython",
    "version": 3
   },
   "file_extension": ".py",
   "mimetype": "text/x-python",
   "name": "python",
   "nbconvert_exporter": "python",
   "pygments_lexer": "ipython3",
   "version": "3.12.3"
  }
 },
 "nbformat": 4,
 "nbformat_minor": 5
}
